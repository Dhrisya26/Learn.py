{
  "nbformat": 4,
  "nbformat_minor": 0,
  "metadata": {
    "colab": {
      "name": "TASK 3.ipynb",
      "provenance": []
    },
    "kernelspec": {
      "name": "python3",
      "display_name": "Python 3"
    },
    "language_info": {
      "name": "python"
    }
  },
  "cells": [
    {
      "cell_type": "markdown",
      "metadata": {
        "id": "z20IIB0eUQMN"
      },
      "source": [
        "1 - Write a program which takes a number as input from the user and check whether the number is odd or even.If odd print the number is odd if not print it is even."
      ]
    },
    {
      "cell_type": "code",
      "metadata": {
        "id": "dVgGJ-wTVRit"
      },
      "source": [
        "n=int(input(\"enter a number:\"))\n",
        "if((n/2)==0):\n",
        "  print(n,\"is an even number\")\n",
        "else:\n",
        "  print(n,\"is an odd number\")\n"
      ],
      "execution_count": null,
      "outputs": []
    },
    {
      "cell_type": "markdown",
      "metadata": {
        "id": "7778XD8PVblj"
      },
      "source": [
        "2 -Write a program to find the largest among three numbers and print the largest number."
      ]
    },
    {
      "cell_type": "code",
      "metadata": {
        "id": "m0tUOkOFWR-d"
      },
      "source": [
        "a=int(input(\"enter the 1st number:\"))\n",
        "b=int(input(\"enter the 2nd number:\"))\n",
        "c=int(input(\"enter the 3rd number:\"))\n",
        "if(a>b and a>c):\n",
        "  print(a,\"is the greatest among three numbers entered\")\n",
        "elif(b>a and b>c):\n",
        "  print(b,\"is the greatest among three numbers entered\")\n",
        "else:\n",
        "    print(c,\"is the greatest among three numbers entered\")\n",
        "\n",
        "2\n"
      ],
      "execution_count": null,
      "outputs": []
    },
    {
      "cell_type": "markdown",
      "metadata": {
        "id": "Jg2Ns4OQWaJy"
      },
      "source": [
        "3 -Write a function to prompt for a score between 0.0 and 1.0.\n",
        "\n",
        "    If the score is out of range, print an error.\n",
        "    If the score is between 0.0 and 1.0, print a grade using the following table:\n",
        "    Score Grade\n",
        "             Score\tGrade\n",
        "            >= 0.9\tA\n",
        "            >= 0.8\tB\n",
        "            >= 0.7\tC\n",
        "            >= 0.6\tD\n",
        "             < 0.6\tF\n",
        "If the user enters a value out of range, print a suitable error message and exit. For the test, enter a score of 0.85."
      ]
    },
    {
      "cell_type": "code",
      "metadata": {
        "id": "6DLbGe6XXZPx"
      },
      "source": [
        "score = float(input(\"Enter score between 0.0 and 1.0: \"))\n",
        "if (score>1.0 or score<0.0):\n",
        "\tprint (\"error\")\n",
        "elif (score>=0.9):\n",
        "  \tprint ('A')\n",
        "elif (score>=0.8):\n",
        "    print ('B')\n",
        "elif (score>=0.7):\n",
        "    print ('C')\n",
        "elif (score>=0.6):\n",
        "    print ('D')\n",
        "else :\n",
        "    print ('F')\n"
      ],
      "execution_count": null,
      "outputs": []
    },
    {
      "cell_type": "markdown",
      "metadata": {
        "id": "-o0scDq7WkVT"
      },
      "source": [
        ""
      ]
    }
  ]
}