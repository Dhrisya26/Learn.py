{
  "nbformat": 4,
  "nbformat_minor": 0,
  "metadata": {
    "colab": {
      "name": "task1.ipynb",
      "provenance": []
    },
    "kernelspec": {
      "name": "python3",
      "display_name": "Python 3"
    },
    "language_info": {
      "name": "python"
    }
  },
  "cells": [
    {
      "cell_type": "markdown",
      "metadata": {
        "id": "itMgLWLz-ETh"
      },
      "source": [
        "1.Write a program that uses input to prompt a user for their name and then welcomes them.\n",
        "\n",
        "\n"
      ]
    },
    {
      "cell_type": "code",
      "metadata": {
        "colab": {
          "base_uri": "https://localhost:8080/"
        },
        "id": "FUB7VLff-MYq",
        "outputId": "55a40fd1-32ef-4505-9516-ea94c6968056"
      },
      "source": [
        "name=input(\"enter the username: \")\n",
        "print (\"welcome\",name)"
      ],
      "execution_count": 1,
      "outputs": [
        {
          "output_type": "stream",
          "text": [
            "enter the username: dhrisya\n",
            "welcome dhrisya\n"
          ],
          "name": "stdout"
        }
      ]
    },
    {
      "cell_type": "markdown",
      "metadata": {
        "id": "Lq5LLNom-U6U"
      },
      "source": [
        "2.Write a program which prompts the user for a Celsius temperature, convert the temperature to Fahrenheit, and print out the converted temperature."
      ]
    },
    {
      "cell_type": "code",
      "metadata": {
        "colab": {
          "base_uri": "https://localhost:8080/"
        },
        "id": "WXqaUdic-Zrs",
        "outputId": "dba997f1-ad87-42c7-f296-2acd1a3466de"
      },
      "source": [
        "celsius=float(input(\"enter the temperature in celsius\"))\n",
        "farenheit = (celsius*1.8)+32\n",
        "print(celsius,\"degree Celsius is equal to\",farenheit,\"degree Farenheit\")"
      ],
      "execution_count": 2,
      "outputs": [
        {
          "output_type": "stream",
          "text": [
            "enter the temperature in celsius0\n",
            "0.0 degree Celsius is equal to 32.0 degree Farenheit\n"
          ],
          "name": "stdout"
        }
      ]
    },
    {
      "cell_type": "markdown",
      "metadata": {
        "id": "13GS0Qow_RTO"
      },
      "source": [
        "3.Write a Python program to convert degree to radian.\n"
      ]
    },
    {
      "cell_type": "code",
      "metadata": {
        "colab": {
          "base_uri": "https://localhost:8080/"
        },
        "id": "susgU0nF_bXZ",
        "outputId": "9745660e-27e4-43aa-ce00-73191e7c7d39"
      },
      "source": [
        "pi=3.14\n",
        "degree = float(input(\"Enter the degree:\"))\n",
        "rad = degree*pi/180\n",
        "rad=round(rad,4)\n",
        "print(degree,\"degree is equal to\",rad,\"Rad.\")"
      ],
      "execution_count": 5,
      "outputs": [
        {
          "output_type": "stream",
          "text": [
            "Enter the degree:1\n",
            "1.0 degree is equal to 0.0174 Rad.\n"
          ],
          "name": "stdout"
        }
      ]
    }
  ]
}